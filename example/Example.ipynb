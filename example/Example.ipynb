{
    "cells": [
        {
            "cell_type": "markdown",
            "metadata": {},
            "source": [
                "# Example notebook\n",
                "\n",
                "In this example real-world example from the Living with Machines project, we have a list of newspaper titles with different abbreviations, and we need to check which identification number, `NLP` that each abbreviation is associated with, within a certain date range."
            ]
        },
        {
            "cell_type": "markdown",
            "metadata": {},
            "source": [
                "## Making sure all is up-to-date\n",
                "\n",
                "Before we get started, make sure that the latest version is installed:"
            ]
        },
        {
            "cell_type": "code",
            "execution_count": 5,
            "metadata": {},
            "outputs": [
                {
                    "name": "stdout",
                    "output_type": "stream",
                    "text": [
                        "Processing /Users/kwesterling/Repositories/lwm/dated-translator/dist/dated_translator-0.1.1-py3-none-any.whl\n",
                        "Installing collected packages: dated-translator\n",
                        "Successfully installed dated-translator-0.1.1\n",
                        "Note: you may need to restart the kernel to use updated packages.\n"
                    ]
                }
            ],
            "source": [
                "%pip install ../dist/dated_translator-0.1.1-py3-none-any.whl"
            ]
        },
        {
            "cell_type": "markdown",
            "metadata": {},
            "source": [
                "## Setting up\n",
                "\n",
                "First, we import the package:"
            ]
        },
        {
            "cell_type": "code",
            "execution_count": 6,
            "metadata": {},
            "outputs": [],
            "source": [
                "from dated_translator import Lookup"
            ]
        },
        {
            "cell_type": "markdown",
            "metadata": {},
            "source": [
                "Then, let's set up our lookup. The file we are passing to the setup of the `Lookup` object is here called `JISC-papers.csv`. Let's have a preview of the file:"
            ]
        },
        {
            "cell_type": "code",
            "execution_count": 13,
            "metadata": {},
            "outputs": [
                {
                    "data": {
                        "text/html": [
                            "<div>\n",
                            "<style scoped>\n",
                            "    .dataframe tbody tr th:only-of-type {\n",
                            "        vertical-align: middle;\n",
                            "    }\n",
                            "\n",
                            "    .dataframe tbody tr th {\n",
                            "        vertical-align: top;\n",
                            "    }\n",
                            "\n",
                            "    .dataframe thead th {\n",
                            "        text-align: right;\n",
                            "    }\n",
                            "</style>\n",
                            "<table border=\"1\" class=\"dataframe\">\n",
                            "  <thead>\n",
                            "    <tr style=\"text-align: right;\">\n",
                            "      <th></th>\n",
                            "      <th>Newspaper Title</th>\n",
                            "      <th>System ID</th>\n",
                            "      <th>NLP</th>\n",
                            "      <th>JISC</th>\n",
                            "      <th>Normalised Title</th>\n",
                            "      <th>Abbr</th>\n",
                            "      <th>StartD</th>\n",
                            "      <th>StartM</th>\n",
                            "      <th>StartY</th>\n",
                            "      <th>EndD</th>\n",
                            "      <th>EndM</th>\n",
                            "      <th>EndY</th>\n",
                            "    </tr>\n",
                            "  </thead>\n",
                            "  <tbody>\n",
                            "    <tr>\n",
                            "      <th>0</th>\n",
                            "      <td>Aberdeen Journal and general advertiser for th...</td>\n",
                            "      <td>13921360</td>\n",
                            "      <td>31</td>\n",
                            "      <td>JISC1</td>\n",
                            "      <td>Aberdeen Journal</td>\n",
                            "      <td>ANJO</td>\n",
                            "      <td>1</td>\n",
                            "      <td>Jan</td>\n",
                            "      <td>1800</td>\n",
                            "      <td>23</td>\n",
                            "      <td>Aug</td>\n",
                            "      <td>1876</td>\n",
                            "    </tr>\n",
                            "    <tr>\n",
                            "      <th>1</th>\n",
                            "      <td>Aberdeen Weekly Journal and general advertiser...</td>\n",
                            "      <td>13921362</td>\n",
                            "      <td>32</td>\n",
                            "      <td>JISC1</td>\n",
                            "      <td>Aberdeen Journal</td>\n",
                            "      <td>ANJO</td>\n",
                            "      <td>30</td>\n",
                            "      <td>Aug</td>\n",
                            "      <td>1876</td>\n",
                            "      <td>31</td>\n",
                            "      <td>Dec</td>\n",
                            "      <td>1900</td>\n",
                            "    </tr>\n",
                            "  </tbody>\n",
                            "</table>\n",
                            "</div>"
                        ],
                        "text/plain": [
                            "                                     Newspaper Title  System ID  NLP   JISC  \\\n",
                            "0  Aberdeen Journal and general advertiser for th...   13921360   31  JISC1   \n",
                            "1  Aberdeen Weekly Journal and general advertiser...   13921362   32  JISC1   \n",
                            "\n",
                            "   Normalised Title  Abbr  StartD StartM  StartY  EndD EndM  EndY  \n",
                            "0  Aberdeen Journal  ANJO       1    Jan    1800    23  Aug  1876  \n",
                            "1  Aberdeen Journal  ANJO      30    Aug    1876    31  Dec  1900  "
                        ]
                    },
                    "execution_count": 13,
                    "metadata": {},
                    "output_type": "execute_result"
                }
            ],
            "source": [
                "import pandas as pd\n",
                "\n",
                "pd.read_csv(\"JISC-papers.csv\").head(2)"
            ]
        },
        {
            "cell_type": "markdown",
            "metadata": {},
            "source": [
                "Now, we can set up our `Lookup` object.\n",
                "\n",
                "In this example, we want to get the resulting `NLP` **31** for any ANJO abbreviations (`Abbr`) between 1881-01-01 and 1876-08-23, and **32** for any of the same abbreviation between 1876-08-30 and 1900-12-31.\n",
                "\n",
                "To set this up, we need to pass the dataset's name, and specify the names of the lookup's term 1 (`Abbr`) and term 2 (`NLP`). _Note: It doesn't matter in which order you pass them, but which one is considered term 1 and 2 will affect our `left_translate` and `right_translate` methods further down the line._\n",
                "\n",
                "We also need to specify the particular date column format in our file. Since we're not using the standard setup here (a `Start Date` and `End Date` column respectively), we can pass a dictionary which requires three items, specifying the name of the year, month, and day columns, and their date formatting. We do so for both the start date and end date columns:"
            ]
        },
        {
            "cell_type": "code",
            "execution_count": 18,
            "metadata": {},
            "outputs": [],
            "source": [
                "lookup = Lookup(\n",
                "    \"JISC-papers.csv\",\n",
                "    term_1_column = \"Abbr\",\n",
                "    term_2_column = \"NLP\",\n",
                "    start_date_column = {\n",
                "        \"StartY\": \"%Y\",\n",
                "        \"StartM\": \"%b\",\n",
                "        \"StartD\": \"%d\"\n",
                "    },\n",
                "    end_date_column = {\n",
                "        \"EndY\": \"%Y\",\n",
                "        \"EndM\": \"%b\",\n",
                "        \"EndD\": \"%d\"\n",
                "    }\n",
                ")"
            ]
        },
        {
            "cell_type": "markdown",
            "metadata": {},
            "source": [
                "### Lookups!"
            ]
        },
        {
            "cell_type": "markdown",
            "metadata": {},
            "source": [
                "After this setup, we can run the `left_translate` method to check what the `NLP` is for the abbreviation \"ANJO\" on the date 1800-01-01:"
            ]
        },
        {
            "cell_type": "code",
            "execution_count": 19,
            "metadata": {},
            "outputs": [
                {
                    "data": {
                        "text/plain": [
                            "[31]"
                        ]
                    },
                    "execution_count": 19,
                    "metadata": {},
                    "output_type": "execute_result"
                }
            ],
            "source": [
                "lookup.left_translate(\"ANJO\", \"1800-01-01\")"
            ]
        },
        {
            "cell_type": "markdown",
            "metadata": {},
            "source": [
                "This should return the value: `[31]`, that is, a list of the possible NLPs for this abbreviation on this particular date."
            ]
        },
        {
            "cell_type": "markdown",
            "metadata": {},
            "source": [
                "Similarly, we can run the `right_translate` method to check what the `Abbr` is for a given `NLP` (31) on the date 1800-01-01:"
            ]
        },
        {
            "cell_type": "code",
            "execution_count": 21,
            "metadata": {},
            "outputs": [
                {
                    "data": {
                        "text/plain": [
                            "['ANJO']"
                        ]
                    },
                    "execution_count": 21,
                    "metadata": {},
                    "output_type": "execute_result"
                }
            ],
            "source": [
                "lookup.right_translate(31, \"1800-01-01\")"
            ]
        },
        {
            "cell_type": "markdown",
            "metadata": {},
            "source": [
                "The result should, in a reverse of the result above, be `['ANJO']`, that is, a list of the possible abbreviations for this NLP in on this particular date."
            ]
        },
        {
            "cell_type": "markdown",
            "metadata": {},
            "source": [
                "### Further examples\n",
                "\n",
                "Note that, if you change the column names, you will get a different kind of lookup. In this example, we're looking for the normalised titles for any given NLP (and vice versa):"
            ]
        },
        {
            "cell_type": "code",
            "execution_count": 24,
            "metadata": {},
            "outputs": [
                {
                    "name": "stdout",
                    "output_type": "stream",
                    "text": [
                        "[31]\n",
                        "['Aberdeen Journal']\n"
                    ]
                }
            ],
            "source": [
                "lookup = Lookup(\n",
                "    \"JISC-papers.csv\",\n",
                "    term_1_column=\"Normalised Title\",\n",
                "    term_2_column=\"NLP\",\n",
                "    start_date_column={\"StartY\": \"%Y\", \"StartM\": \"%b\", \"StartD\": \"%d\"},\n",
                "    end_date_column={\"EndY\": \"%Y\", \"EndM\": \"%b\", \"EndD\": \"%d\"}\n",
                ")\n",
                "\n",
                "print(lookup.left_translate(\"Aberdeen Journal\", \"1800-01-01\"))\n",
                "print(lookup.right_translate(31, \"1800-01-01\"))"
            ]
        }
    ],
    "metadata": {
        "kernelspec": {
            "display_name": "Python 3.10.6 64-bit",
            "language": "python",
            "name": "python3"
        },
        "language_info": {
            "codemirror_mode": {
                "name": "ipython",
                "version": 3
            },
            "file_extension": ".py",
            "mimetype": "text/x-python",
            "name": "python",
            "nbconvert_exporter": "python",
            "pygments_lexer": "ipython3",
            "version": "3.10.6"
        },
        "orig_nbformat": 4,
        "vscode": {
            "interpreter": {
                "hash": "b0fa6594d8f4cbf19f97940f81e996739fb7646882a419484c72d19e05852a7e"
            }
        }
    },
    "nbformat": 4,
    "nbformat_minor": 2
}